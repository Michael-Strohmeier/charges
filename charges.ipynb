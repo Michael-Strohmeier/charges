{
  "nbformat": 4,
  "nbformat_minor": 0,
  "metadata": {
    "colab": {
      "name": "charges.ipynb",
      "provenance": [],
      "collapsed_sections": []
    },
    "kernelspec": {
      "name": "python3",
      "display_name": "Python 3"
    },
    "language_info": {
      "name": "python"
    }
  },
  "cells": [
    {
      "cell_type": "code",
      "metadata": {
        "id": "hAYkQYQY6Dx-"
      },
      "source": [
        "\"\"\"\n",
        "\n",
        "with a list of codes (Ex. 32733001) and knowledge of what stuff like (FRA SUB MIS WO CM AP) means,\n",
        "I think this is pretty reasonable to clean\n",
        "\n",
        "i think we MUST look at all 6 columns. the \"Code2\" column sometimes \n",
        "contains charge description instead of a code.\n",
        "sometimes the \"Charge1\" column contains multiple charges.\n",
        "\n",
        "i would rather have ONE charge column that contains all of the charge codes in a list. like this:\n",
        "[84308102, 78703001, 89610105B]\n",
        "\n",
        "and a lookup table or excel sheet that maps charge_codes to charges\n",
        "84308102 -> Robbery\n",
        "\n",
        "*** I am very interested in how law enforcement is ENTERING THE DATA ***\n",
        "there may be a change to existing jail booking software that would allow ease of data collection AND\n",
        "reduce the amount of data preprocessing needed\n",
        "\n",
        "letting the person doing the jail booking type in a charge and having them select \n",
        "from a drop down list would help make future data more clean\n",
        "\n",
        "\"\"\""
      ],
      "execution_count": null,
      "outputs": []
    },
    {
      "cell_type": "code",
      "metadata": {
        "id": "jDVfOObXroe3"
      },
      "source": [
        "import pandas as pd"
      ],
      "execution_count": 1,
      "outputs": []
    },
    {
      "cell_type": "code",
      "metadata": {
        "colab": {
          "base_uri": "https://localhost:8080/"
        },
        "id": "kJ4QuKaKruRo",
        "outputId": "dff74687-bcaf-4254-fee3-0dc0ae0b53c0"
      },
      "source": [
        "df = pd.read_csv(\"jail_bookings.csv\")\n",
        "\n",
        "# drop NaN\n",
        "df = df.dropna(subset=[\"Zip\"])"
      ],
      "execution_count": 14,
      "outputs": [
        {
          "output_type": "stream",
          "name": "stderr",
          "text": [
            "/usr/local/lib/python3.7/dist-packages/IPython/core/interactiveshell.py:2718: DtypeWarning: Columns (11,15) have mixed types.Specify dtype option on import or set low_memory=False.\n",
            "  interactivity=interactivity, compiler=compiler, result=result)\n"
          ]
        }
      ]
    },
    {
      "cell_type": "code",
      "metadata": {
        "id": "qr7nYBHdthkb"
      },
      "source": [
        "charges_set = set()\n",
        "for i in range(len(df)):\n",
        "  charges = \"/\".join([str(df.iloc[i][\"ChargeCode1\"]), \n",
        "                      str(df.iloc[i][\"Charge1\"]),\n",
        "                      str(df.iloc[i][\"ChargeCode2\"]),\n",
        "                      str(df.iloc[i][\"Code2\"]), \n",
        "                      str(df.iloc[i][\"ChargeCode3\"]),\n",
        "                      str(df.iloc[i][\"Charge3\"])])\n",
        "  \n",
        "  charges.replace(\"/nan\", \"\")\n",
        "  charges = charges.split(\"/\")\n",
        "\n",
        "  for charge in charges:\n",
        "    charges_set.add(charge)"
      ],
      "execution_count": 29,
      "outputs": []
    },
    {
      "cell_type": "code",
      "metadata": {
        "colab": {
          "base_uri": "https://localhost:8080/"
        },
        "id": "bNRRL-pkzkRJ",
        "outputId": "0d0a1204-2dbb-4cac-c9e5-607271e23309"
      },
      "source": [
        "len(charges_set)"
      ],
      "execution_count": 30,
      "outputs": [
        {
          "output_type": "execute_result",
          "data": {
            "text/plain": [
              "3938"
            ]
          },
          "metadata": {},
          "execution_count": 30
        }
      ]
    },
    {
      "cell_type": "code",
      "metadata": {
        "id": "szQvElBh72sR"
      },
      "source": [
        "pd.DataFrame(list(charges_set), columns=[\"charge\"]).to_csv(\"charges.csv\")"
      ],
      "execution_count": 35,
      "outputs": []
    },
    {
      "cell_type": "code",
      "metadata": {
        "id": "fVBQSQou8TNp"
      },
      "source": [
        ""
      ],
      "execution_count": null,
      "outputs": []
    }
  ]
}